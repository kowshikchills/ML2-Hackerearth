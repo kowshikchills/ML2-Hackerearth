{
 "cells": [
  {
   "cell_type": "code",
   "execution_count": 83,
   "metadata": {
    "collapsed": true
   },
   "outputs": [],
   "source": [
    "import pandas as pd\n",
    "import numpy as np\n",
    "import time\n",
    "\n",
    "\n",
    "df_train1 = pd.read_csv(\"train2.csv\")\n",
    "df_test1 = pd.read_csv(\"test2.csv\")\n",
    "del df_train1['Unnamed: 0']\n",
    "del df_test1['Unnamed: 0']\n",
    "\n",
    "\n",
    "import numpy as np\n",
    "import time\n",
    "df_train = df_train1[:]\n",
    "df_test = df_test1[:]\n",
    "\n",
    "\n",
    "\n",
    "import warnings\n",
    "warnings.filterwarnings(\"ignore\")\n",
    "cols_to_use = ['name','desc']\n",
    "len_feats = ['name_len','desc_len']\n",
    "count_feats = ['name_count','desc_count']\n",
    "\n",
    "for i in np.arange(2):\n",
    "    df_train[len_feats[i]] = df_train[cols_to_use[i]].apply(str).apply(len)\n",
    "    df_train[count_feats[i]] = df_train[cols_to_use[i]].apply(str).apply(lambda x: len(x.split(' ')))\n",
    "    \n",
    "    \n",
    "for i in np.arange(2):\n",
    "    df_test[len_feats[i]] = df_test[cols_to_use[i]].apply(str).apply(len)\n",
    "    df_test[count_feats[i]] = df_test[cols_to_use[i]].apply(str).apply(lambda x: len(x.split(' ')))\n",
    "    \n",
    "    \n",
    "    \n",
    "#Flag 1 based on goal\n",
    "thre = 700000\n",
    "df_test_decided_1  = df_test[df_test.goal>=thre]\n",
    "df_test_1  = df_test[df_test.goal<thre]\n",
    "df_train_decided_1  = df_train[df_train.goal>=thre]\n",
    "df_train_1  = df_train[df_train.goal<thre]\n",
    "\n",
    "df_test_decided_1['final_status'] = 0\n",
    "\n",
    "#Flag 2 based on disable_communication\n",
    "\n",
    "df_test_decided_2  = df_test_1[df_test_1.disable_communication ==1 ]\n",
    "df_test_2  = df_test_1[df_test_1.disable_communication !=1]\n",
    "df_train_decided_2  = df_train_1[df_train_1.disable_communication ==1 ]\n",
    "df_train_2  = df_train_1[df_train_1.disable_communication !=1]\n",
    "\n",
    "df_test_decided_2['final_status'] = 0\n",
    "\n",
    "for df in [df_test_decided_2,df_test_2,df_train_decided_2,df_train_2]:\n",
    "    del df['disable_communication']\n",
    "    \n",
    "\n",
    "#Flag 2 based on   deadline-state_changed_at\n",
    "\n",
    "df_test_decided_3  = df_test_2[df_test_2['deadline-state_changed_at'].values<0]\n",
    "df_test_3  = df_test_2[df_test_2['deadline-state_changed_at'].values>=0]\n",
    "df_train_decided_3  = df_train_2[df_train_2['deadline-state_changed_at'].values<0]\n",
    "df_train_3  = df_train_2[df_train_2['deadline-state_changed_at'].values>=0]\n",
    "\n",
    "df_test_decided_3['final_status'] = 0\n",
    "\n"
   ]
  },
  {
   "cell_type": "code",
   "execution_count": 93,
   "metadata": {
    "collapsed": false
   },
   "outputs": [],
   "source": [
    "from textblob import TextBlob\n",
    "polarity = []\n",
    "subjectivity = []\n",
    "desc= []\n",
    "for i in df_train_3['desc'].values:\n",
    "    if str(i) == 'nan':\n",
    "        i = 'none'\n",
    "        b = TextBlob(i)\n",
    "        x = b.sentiment\n",
    "        polarity.append(x.polarity)\n",
    "        subjectivity.append(x.subjectivity)\n",
    "        desc.append(i)\n",
    "    else:\n",
    "        i = i.decode('utf8').encode('ascii', errors='ignore')\n",
    "        b = TextBlob(i)\n",
    "        x = b.sentiment\n",
    "        polarity.append(x.polarity)\n",
    "        subjectivity.append(x.subjectivity)\n",
    "        desc.append(i)\n",
    "df_train_3['polarity'] =polarity\n",
    "df_train_3['subjectivity'] =subjectivity\n",
    "df_train_3['desc'] = desc\n",
    "\n",
    "\n",
    "\n",
    "\n",
    "from textblob import TextBlob\n",
    "polarity = []\n",
    "subjectivity = []\n",
    "desc= []\n",
    "for i in df_test_3['desc'].values:\n",
    "    if str(i) == 'nan':\n",
    "        i = 'none'\n",
    "        b = TextBlob(i)\n",
    "        x = b.sentiment\n",
    "        polarity.append(x.polarity)\n",
    "        subjectivity.append(x.subjectivity)\n",
    "        desc.append(i)\n",
    "    else:\n",
    "        i = i.decode('utf8').encode('ascii', errors='ignore')\n",
    "        i = i.replace('\"','')\n",
    "        b = TextBlob(i)\n",
    "        x = b.sentiment\n",
    "        polarity.append(x.polarity)\n",
    "        subjectivity.append(x.subjectivity)\n",
    "        desc.append(i)\n",
    "df_test_3['polarity'] =polarity\n",
    "df_test_3['subjectivity'] =subjectivity\n",
    "df_test_3['desc'] = desc"
   ]
  },
  {
   "cell_type": "code",
   "execution_count": null,
   "metadata": {
    "collapsed": true
   },
   "outputs": [],
   "source": []
  },
  {
   "cell_type": "code",
   "execution_count": 126,
   "metadata": {
    "collapsed": false
   },
   "outputs": [
    {
     "data": {
      "text/plain": [
       "Index([u'project_id', u'name', u'desc', u'goal', u'keywords', u'country',\n",
       "       u'currency', u'deadline', u'state_changed_at', u'created_at',\n",
       "       u'launched_at', u'deadline-state_changed_at', u'launched_at-created_at',\n",
       "       u'deadline-launched_at', u'deadline-created_at', u'keys_no', u'keys',\n",
       "       u'keys_len', u'name_len', u'name_count', u'desc_len', u'desc_count',\n",
       "       u'polarity', u'subjectivity'],\n",
       "      dtype='object')"
      ]
     },
     "execution_count": 126,
     "metadata": {},
     "output_type": "execute_result"
    }
   ],
   "source": [
    "df_test_3.columns"
   ]
  },
  {
   "cell_type": "code",
   "execution_count": 124,
   "metadata": {
    "collapsed": true
   },
   "outputs": [],
   "source": [
    "train = df_train_3\n",
    "test = df_test_3\n",
    "from sklearn.preprocessing import LabelEncoder\n",
    "\n",
    "feat = ['country']\n",
    "for x in feat:\n",
    "    le = LabelEncoder()\n",
    "    le.fit(list(train[x].values) + list(test[x].values))\n",
    "    train[x] = le.transform(list(train[x]))\n",
    "    test[x] = le.transform(list(test[x].values))"
   ]
  },
  {
   "cell_type": "code",
   "execution_count": 134,
   "metadata": {
    "collapsed": true
   },
   "outputs": [],
   "source": [
    "cols_to_use = ['name_len','desc_len','keys_len','name_count','desc_count','keys_no',\n",
    "              'goal','country','deadline-state_changed_at','deadline-created_at']\n",
    "\n",
    "\n",
    "target = train['final_status']\n",
    "\n",
    "# data for modeling\n",
    "k_train = train[cols_to_use]\n",
    "k_test = test[cols_to_use]\n"
   ]
  },
  {
   "cell_type": "code",
   "execution_count": 135,
   "metadata": {
    "collapsed": false
   },
   "outputs": [],
   "source": [
    "from sklearn.naive_bayes import GaussianNB\n",
    "\n",
    "gnb = GaussianNB()\n",
    "nvb_pred = gnb.fit(k_train,target ).predict(k_test)"
   ]
  },
  {
   "cell_type": "code",
   "execution_count": 136,
   "metadata": {
    "collapsed": true
   },
   "outputs": [],
   "source": [
    "nBsub = pd.DataFrame({'project_id':test['project_id'],'final_status':nvb_pred})\n",
    "nBsub = nBsub[['project_id','final_status']]"
   ]
  },
  {
   "cell_type": "code",
   "execution_count": 137,
   "metadata": {
    "collapsed": true
   },
   "outputs": [],
   "source": [
    "frames = [nBsub ,df_test_decided_1[['project_id','final_status']],df_test_decided_2[['project_id','final_status']],df_test_decided_3[['project_id','final_status']]]"
   ]
  },
  {
   "cell_type": "code",
   "execution_count": 138,
   "metadata": {
    "collapsed": true
   },
   "outputs": [],
   "source": [
    "nBsub = pd.concat(frames)"
   ]
  },
  {
   "cell_type": "code",
   "execution_count": 139,
   "metadata": {
    "collapsed": true
   },
   "outputs": [],
   "source": [
    "nBsub.to_csv(\"god.csv\",index = False) #0.6526"
   ]
  },
  {
   "cell_type": "code",
   "execution_count": null,
   "metadata": {
    "collapsed": true
   },
   "outputs": [],
   "source": []
  }
 ],
 "metadata": {
  "kernelspec": {
   "display_name": "Python 2",
   "language": "python",
   "name": "python2"
  },
  "language_info": {
   "codemirror_mode": {
    "name": "ipython",
    "version": 2
   },
   "file_extension": ".py",
   "mimetype": "text/x-python",
   "name": "python",
   "nbconvert_exporter": "python",
   "pygments_lexer": "ipython2",
   "version": "2.7.13"
  }
 },
 "nbformat": 4,
 "nbformat_minor": 2
}
