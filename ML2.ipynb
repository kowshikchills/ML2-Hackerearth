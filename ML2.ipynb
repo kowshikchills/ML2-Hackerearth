{
 "cells": [
  {
   "cell_type": "code",
   "execution_count": null,
   "metadata": {
    "collapsed": true
   },
   "outputs": [],
   "source": []
  },
  {
   "cell_type": "code",
   "execution_count": 107,
   "metadata": {
    "collapsed": true
   },
   "outputs": [],
   "source": [
    "X  = df_train_3[df_train1.columns[-50:]]\n",
    "Y = df_train_3['final_status']"
   ]
  },
  {
   "cell_type": "code",
   "execution_count": 108,
   "metadata": {
    "collapsed": true
   },
   "outputs": [],
   "source": [
    "split = int(0.75*(len(X)))\n",
    "X_train = np.array(X)[:split]\n",
    "X_valid = np.array(X)[split:]\n",
    "Y_train =  Y[:split]\n",
    "Y_test =  Y[split:]"
   ]
  },
  {
   "cell_type": "code",
   "execution_count": 164,
   "metadata": {
    "collapsed": true
   },
   "outputs": [],
   "source": [
    "from sklearn.ensemble import RandomForestClassifier,GradientBoostingClassifier\n",
    "from sklearn.linear_model import LogisticRegression\n",
    "from sklearn.tree import DecisionTreeClassifier\n",
    "clf =LogisticRegression()\n",
    "clf.fit(X_train,Y_train)\n",
    "prob = clf.predict_proba(X_valid)"
   ]
  },
  {
   "cell_type": "code",
   "execution_count": 165,
   "metadata": {
    "collapsed": true
   },
   "outputs": [],
   "source": [
    "x = prob.T[1]>0.35\n",
    "pred = x*1"
   ]
  },
  {
   "cell_type": "code",
   "execution_count": 166,
   "metadata": {},
   "outputs": [
    {
     "data": {
      "text/plain": [
       "array([[10625,  2438],\n",
       "       [ 8290,  4119]])"
      ]
     },
     "execution_count": 166,
     "metadata": {},
     "output_type": "execute_result"
    }
   ],
   "source": [
    "from sklearn.metrics import confusion_matrix,f1_score\n",
    "confusion_matrix(pred, Y_test)"
   ]
  },
  {
   "cell_type": "code",
   "execution_count": 168,
   "metadata": {},
   "outputs": [
    {
     "data": {
      "text/plain": [
       "0.43435621638721916"
      ]
     },
     "execution_count": 168,
     "metadata": {},
     "output_type": "execute_result"
    }
   ],
   "source": [
    "f1_score(pred, Y_test)"
   ]
  },
  {
   "cell_type": "code",
   "execution_count": null,
   "metadata": {
    "collapsed": true
   },
   "outputs": [],
   "source": []
  },
  {
   "cell_type": "code",
   "execution_count": 189,
   "metadata": {
    "collapsed": true
   },
   "outputs": [],
   "source": [
    "from sklearn.decomposition import PCA\n",
    "p  = PCA(n_components=3)\n",
    "ca = p.fit_transform(np.array(X))"
   ]
  },
  {
   "cell_type": "code",
   "execution_count": 196,
   "metadata": {
    "collapsed": true
   },
   "outputs": [],
   "source": [
    "fig = plt.figure()\n",
    "ax = fig.add_subplot(111, projection='3d')"
   ]
  },
  {
   "cell_type": "code",
   "execution_count": 197,
   "metadata": {},
   "outputs": [
    {
     "data": {
      "text/plain": [
       "<mpl_toolkits.mplot3d.art3d.Path3DCollection at 0x49342f28>"
      ]
     },
     "execution_count": 197,
     "metadata": {},
     "output_type": "execute_result"
    }
   ],
   "source": [
    "xs = ca.T[0]\n",
    "ys = ca.T[1]\n",
    "zs = ca.T[2]\n",
    "ax.scatter(xs, ys, zs, c='r', marker='o')\n",
    "\n",
    "\n",
    "# xs = ca[Y == 1].T[0]\n",
    "# ys = ca[Y == 1].T[1]\n",
    "# zs = ca[Y == 1].T[2]\n",
    "# ax.scatter(xs, ys, zs, c='b', marker='^')\n"
   ]
  },
  {
   "cell_type": "code",
   "execution_count": 193,
   "metadata": {},
   "outputs": [
    {
     "name": "stdout",
     "output_type": "stream",
     "text": [
      "Using matplotlib backend: Qt5Agg\n"
     ]
    }
   ],
   "source": [
    "%matplotlib"
   ]
  },
  {
   "cell_type": "code",
   "execution_count": null,
   "metadata": {
    "collapsed": true
   },
   "outputs": [],
   "source": []
  },
  {
   "cell_type": "code",
   "execution_count": null,
   "metadata": {
    "collapsed": true
   },
   "outputs": [],
   "source": []
  },
  {
   "cell_type": "code",
   "execution_count": null,
   "metadata": {
    "collapsed": true
   },
   "outputs": [],
   "source": []
  },
  {
   "cell_type": "code",
   "execution_count": null,
   "metadata": {
    "collapsed": true
   },
   "outputs": [],
   "source": []
  },
  {
   "cell_type": "code",
   "execution_count": null,
   "metadata": {
    "collapsed": true
   },
   "outputs": [],
   "source": []
  },
  {
   "cell_type": "code",
   "execution_count": null,
   "metadata": {
    "collapsed": true
   },
   "outputs": [],
   "source": []
  },
  {
   "cell_type": "code",
   "execution_count": null,
   "metadata": {
    "collapsed": true
   },
   "outputs": [],
   "source": []
  },
  {
   "cell_type": "code",
   "execution_count": 3,
   "metadata": {
    "collapsed": true
   },
   "outputs": [],
   "source": [
    "import pandas as pd\n",
    "import numpy as np\n",
    "import time\n",
    "\n",
    "\n",
    "df_train1 = pd.read_csv(\"train_G.csv\")\n",
    "df_test1 = pd.read_csv(\"test_G.csv\")\n",
    "del df_train1['Unnamed: 0']\n",
    "del df_test1['Unnamed: 0']"
   ]
  },
  {
   "cell_type": "code",
   "execution_count": 207,
   "metadata": {
    "collapsed": true
   },
   "outputs": [],
   "source": [
    "import numpy as np\n",
    "import time\n",
    "df_train = df_train1[:]\n",
    "df_test = df_test1[:]\n",
    "\n",
    "\n",
    "\n",
    "import warnings\n",
    "warnings.filterwarnings(\"ignore\")\n",
    "cols_to_use = ['name','desc']\n",
    "len_feats = ['name_len','desc_len']\n",
    "count_feats = ['name_count','desc_count']\n",
    "\n",
    "for i in np.arange(2):\n",
    "    df_train[len_feats[i]] = df_train[cols_to_use[i]].apply(str).apply(len)\n",
    "    df_train[count_feats[i]] = df_train[cols_to_use[i]].apply(str).apply(lambda x: len(x.split(' ')))\n",
    "    \n",
    "    \n",
    "for i in np.arange(2):\n",
    "    df_test[len_feats[i]] = df_test[cols_to_use[i]].apply(str).apply(len)\n",
    "    df_test[count_feats[i]] = df_test[cols_to_use[i]].apply(str).apply(lambda x: len(x.split(' ')))\n",
    "    "
   ]
  },
  {
   "cell_type": "code",
   "execution_count": 208,
   "metadata": {
    "collapsed": true
   },
   "outputs": [],
   "source": [
    "#Flag 1 based on goal\n",
    "thre = 700000\n",
    "df_test_decided_1  = df_test[df_test.goal>=thre]\n",
    "df_test_1  = df_test[df_test.goal<thre]\n",
    "df_train_decided_1  = df_train[df_train.goal>=thre]\n",
    "df_train_1  = df_train[df_train.goal<thre]\n",
    "\n",
    "df_test_decided_1['final_status'] = 0\n",
    "\n",
    "#Flag 2 based on disable_communication\n",
    "\n",
    "df_test_decided_2  = df_test_1[df_test_1.disable_communication ==1 ]\n",
    "df_test_2  = df_test_1[df_test_1.disable_communication !=1]\n",
    "df_train_decided_2  = df_train_1[df_train_1.disable_communication ==1 ]\n",
    "df_train_2  = df_train_1[df_train_1.disable_communication !=1]\n",
    "\n",
    "df_test_decided_2['final_status'] = 0\n",
    "\n",
    "for df in [df_test_decided_2,df_test_2,df_train_decided_2,df_train_2]:\n",
    "    del df['disable_communication']\n",
    "    \n",
    "\n",
    "#Flag 2 based on   deadline-state_changed_at\n",
    "\n",
    "df_test_decided_3  = df_test_2[df_test_2['deadline-state_changed_at'].values<0]\n",
    "df_test_3  = df_test_2[df_test_2['deadline-state_changed_at'].values>=0]\n",
    "df_train_decided_3  = df_train_2[df_train_2['deadline-state_changed_at'].values<0]\n",
    "df_train_3  = df_train_2[df_train_2['deadline-state_changed_at'].values>=0]\n",
    "\n",
    "df_test_decided_3['final_status'] = 0\n",
    "\n"
   ]
  },
  {
   "cell_type": "code",
   "execution_count": 202,
   "metadata": {
    "collapsed": true
   },
   "outputs": [],
   "source": [
    "import pandas as pd\n",
    "nBsub_US = pd.read_csv('C:\\Users\\c5067944\\Desktop\\COMPS\\mlc2\\MyData.csv')\n",
    "\n",
    "nBsub = nBsub_US[['project_id','final_status']]\n",
    "\n",
    "frames = [nBsub, df_test_decided_1[['project_id','final_status']],df_test_decided_2[['project_id','final_status']],df_test_decided_3[['project_id','final_status']]]\n",
    "nBsub = pd.concat(frames)\n",
    "nBsub.to_csv(\"god.csv\",index = False) #0.6526"
   ]
  },
  {
   "cell_type": "code",
   "execution_count": 60,
   "metadata": {},
   "outputs": [
    {
     "data": {
      "text/plain": [
       "63465"
      ]
     },
     "execution_count": 60,
     "metadata": {},
     "output_type": "execute_result"
    }
   ],
   "source": [
    "len(nBsub)"
   ]
  },
  {
   "cell_type": "code",
   "execution_count": 97,
   "metadata": {
    "collapsed": true
   },
   "outputs": [],
   "source": [
    "cols = ['goal','country','currency','deadline-state_changed_at',\n",
    " 'launched_at-created_at','deadline-launched_at','deadline-created_at','keys_no','keys_len',]+list(df_train_1.columns[-54:])"
   ]
  },
  {
   "cell_type": "code",
   "execution_count": 24,
   "metadata": {
    "collapsed": true
   },
   "outputs": [],
   "source": [
    "cols =['project_id',  'goal',\n",
    "  'country',\n",
    "  'currency',\n",
    " 'deadline-state_changed_at',\n",
    " 'deadline-created_at',\n",
    " 'keys_no',\n",
    " 'keys_len',\n",
    " 'name_len',\n",
    " 'name_count',\n",
    " 'desc_len',\n",
    " 'desc_count',\n",
    " '0',\n",
    " '1',\n",
    " '2',\n",
    " '3',\n",
    " '4',\n",
    " '5',\n",
    " '6',\n",
    " '7',\n",
    " '8',\n",
    " '9',\n",
    " '10',\n",
    " '11',\n",
    " '12',\n",
    " '13',\n",
    " '14',\n",
    " '15',\n",
    " '16',\n",
    " '17',\n",
    " '18',\n",
    " '19',\n",
    " '20',\n",
    " '21',\n",
    " '22',\n",
    " '23',\n",
    " '24',\n",
    " '25',\n",
    " '26',\n",
    " '27',\n",
    " '28',\n",
    " '29',\n",
    " '30',\n",
    " '31',\n",
    " '32',\n",
    " '33',\n",
    " '34',\n",
    " '35',\n",
    " '36',\n",
    " '37',\n",
    " '38',\n",
    " '39',\n",
    " '40',\n",
    " '41',\n",
    " '42',\n",
    " '43',\n",
    " '44',\n",
    " '45',\n",
    " '46',\n",
    " '47',\n",
    " '48',\n",
    " '49',\n",
    "\n",
    "]\n"
   ]
  },
  {
   "cell_type": "code",
   "execution_count": 10,
   "metadata": {
    "collapsed": true
   },
   "outputs": [],
   "source": [
    "df_tr = df_train_3[cols+['final_status']]\n",
    "df_te = df_test_3[cols]"
   ]
  },
  {
   "cell_type": "code",
   "execution_count": 12,
   "metadata": {
    "collapsed": true
   },
   "outputs": [],
   "source": [
    "df_tr.to_csv('rtr.csv')\n",
    "df_te.to_csv('rte.csv')"
   ]
  },
  {
   "cell_type": "code",
   "execution_count": 254,
   "metadata": {
    "collapsed": true
   },
   "outputs": [],
   "source": [
    "\n",
    "df_tr = df_train_3[cols]\n",
    "df_te = df_test_3[cols]\n",
    "Y = df_train_3['final_status'].values\n",
    "\n",
    "\n",
    "\n",
    "X_train = df_tr.to_dict('records')\n",
    "X_test = df_te.to_dict('records')\n",
    "X_tr = []\n",
    "X_te = []\n",
    "X_tr.extend(X_train)\n",
    "X_te.extend(X_test)\n",
    "X_total = X_tr + X_te\n",
    "\n",
    "\n",
    "\n",
    "from sklearn.feature_extraction import DictVectorizer    \n",
    "enc = DictVectorizer()\n",
    "X_encoded_total =enc.fit_transform(X_total)\n",
    "X_encoded_train =X_encoded_total[:len(X_tr)]\n",
    "X_encoded_test =X_encoded_total[len(X_tr):]"
   ]
  },
  {
   "cell_type": "code",
   "execution_count": null,
   "metadata": {
    "collapsed": true
   },
   "outputs": [],
   "source": []
  },
  {
   "cell_type": "code",
   "execution_count": 243,
   "metadata": {
    "collapsed": true
   },
   "outputs": [],
   "source": [
    "split = int(0.75*(len(X_encoded_train.toarray())))\n",
    "X_train = X_encoded_train.toarray()[:split]\n",
    "X_valid = X_encoded_train.toarray()[split:]\n",
    "Y_train =  Y[:split]\n",
    "Y_test =  Y[split:]"
   ]
  },
  {
   "cell_type": "code",
   "execution_count": 250,
   "metadata": {},
   "outputs": [
    {
     "data": {
      "text/plain": [
       "DecisionTreeClassifier(class_weight=None, criterion='gini', max_depth=None,\n",
       "            max_features=None, max_leaf_nodes=None,\n",
       "            min_impurity_split=1e-07, min_samples_leaf=1,\n",
       "            min_samples_split=500, min_weight_fraction_leaf=0.0,\n",
       "            presort=False, random_state=None, splitter='best')"
      ]
     },
     "execution_count": 250,
     "metadata": {},
     "output_type": "execute_result"
    }
   ],
   "source": [
    "from sklearn.ensemble import RandomForestClassifier\n",
    "from sklearn.linear_model import LogisticRegression\n",
    "from sklearn.tree import DecisionTreeClassifier\n",
    "clf = DecisionTreeClassifier(min_samples_split = 500)\n",
    "clf.fit(X_train,Y_train)\n"
   ]
  },
  {
   "cell_type": "code",
   "execution_count": 251,
   "metadata": {},
   "outputs": [
    {
     "name": "stdout",
     "output_type": "stream",
     "text": [
      "training acc: 0.677554438861\n",
      "testing acc: 0.707993090452\n",
      "0.381403858949\n"
     ]
    }
   ],
   "source": [
    "from sklearn.metrics import accuracy_score,f1_score\n",
    "print 'training acc:', accuracy_score(clf.predict(X_train), Y_train)\n",
    "print 'testing acc:', accuracy_score(clf.predict(X_valid), Y_test)\n",
    "print f1_score(clf.predict(X_valid), Y_test)"
   ]
  },
  {
   "cell_type": "code",
   "execution_count": 252,
   "metadata": {},
   "outputs": [
    {
     "data": {
      "text/plain": [
       "array([[15741,  4264],\n",
       "       [ 3174,  2293]])"
      ]
     },
     "execution_count": 252,
     "metadata": {},
     "output_type": "execute_result"
    }
   ],
   "source": [
    "from sklearn.metrics import confusion_matrix\n",
    "confusion_matrix(clf.predict(X_valid), Y_test)"
   ]
  },
  {
   "cell_type": "code",
   "execution_count": 182,
   "metadata": {},
   "outputs": [
    {
     "data": {
      "text/plain": [
       "Counter({0: 18915, 1: 6557})"
      ]
     },
     "execution_count": 182,
     "metadata": {},
     "output_type": "execute_result"
    }
   ],
   "source": [
    "Counter(Y_test)"
   ]
  },
  {
   "cell_type": "code",
   "execution_count": 132,
   "metadata": {
    "collapsed": true
   },
   "outputs": [],
   "source": [
    "from sklearn.model_selection import KFold\n",
    "kf = KFold(n_splits=5)\n",
    "\n",
    "\n",
    "for train_index, test_index in kf.split(X_encoded_train):\n",
    "    X_train, X_test = X_encoded_train[train_index], X_encoded_train[test_index]\n",
    "    y_train, y_test = Y[train_index], Y[test_index]"
   ]
  },
  {
   "cell_type": "code",
   "execution_count": 133,
   "metadata": {},
   "outputs": [
    {
     "data": {
      "text/plain": [
       "<81511x75 sparse matrix of type '<type 'numpy.float64'>'\n",
       "\twith 5016823 stored elements in Compressed Sparse Row format>"
      ]
     },
     "execution_count": 133,
     "metadata": {},
     "output_type": "execute_result"
    }
   ],
   "source": []
  },
  {
   "cell_type": "code",
   "execution_count": null,
   "metadata": {
    "collapsed": true
   },
   "outputs": [],
   "source": []
  },
  {
   "cell_type": "code",
   "execution_count": 261,
   "metadata": {
    "collapsed": true
   },
   "outputs": [],
   "source": [
    "l = pd.read_csv('train1.csv')"
   ]
  },
  {
   "cell_type": "code",
   "execution_count": 264,
   "metadata": {
    "collapsed": true
   },
   "outputs": [],
   "source": [
    "l1 = l[:10]\n",
    "del l1['Unnamed: 0']"
   ]
  },
  {
   "cell_type": "code",
   "execution_count": 266,
   "metadata": {
    "collapsed": true
   },
   "outputs": [],
   "source": [
    "l1.to_csv('sample.csv',index= False)"
   ]
  },
  {
   "cell_type": "code",
   "execution_count": null,
   "metadata": {
    "collapsed": true
   },
   "outputs": [],
   "source": [
    "l1"
   ]
  },
  {
   "cell_type": "code",
   "execution_count": 208,
   "metadata": {},
   "outputs": [
    {
     "data": {
      "text/plain": [
       "DecisionTreeClassifier(class_weight=None, criterion='gini', max_depth=None,\n",
       "            max_features=None, max_leaf_nodes=None,\n",
       "            min_impurity_split=1e-07, min_samples_leaf=1,\n",
       "            min_samples_split=100, min_weight_fraction_leaf=0.0,\n",
       "            presort=False, random_state=None, splitter='best')"
      ]
     },
     "execution_count": 208,
     "metadata": {},
     "output_type": "execute_result"
    }
   ],
   "source": [
    "clf = DecisionTreeClassifier(min_samples_split = 100)\n",
    "clf.fit(X_encoded_train,Y)"
   ]
  },
  {
   "cell_type": "code",
   "execution_count": null,
   "metadata": {
    "collapsed": true
   },
   "outputs": [],
   "source": [
    "clf.predict(X_)"
   ]
  },
  {
   "cell_type": "code",
   "execution_count": 214,
   "metadata": {
    "collapsed": true
   },
   "outputs": [],
   "source": [
    "nvb_pred = clf.predict(X_encoded_test)"
   ]
  },
  {
   "cell_type": "code",
   "execution_count": 215,
   "metadata": {},
   "outputs": [
    {
     "data": {
      "text/plain": [
       "46070"
      ]
     },
     "execution_count": 215,
     "metadata": {},
     "output_type": "execute_result"
    }
   ],
   "source": [
    "len(nvb_pred)"
   ]
  },
  {
   "cell_type": "code",
   "execution_count": 216,
   "metadata": {
    "collapsed": true
   },
   "outputs": [],
   "source": [
    "nBsub = pd.DataFrame({'project_id':df_test_3['project_id'],'final_status':nvb_pred})\n",
    "nBsub = nBsub[['project_id','final_status']]"
   ]
  },
  {
   "cell_type": "code",
   "execution_count": 12,
   "metadata": {},
   "outputs": [
    {
     "ename": "NameError",
     "evalue": "name 'nBsub' is not defined",
     "output_type": "error",
     "traceback": [
      "\u001b[0;31m---------------------------------------------------------------------------\u001b[0m",
      "\u001b[0;31mNameError\u001b[0m                                 Traceback (most recent call last)",
      "\u001b[0;32m<ipython-input-12-794cca6450e1>\u001b[0m in \u001b[0;36m<module>\u001b[0;34m()\u001b[0m\n\u001b[0;32m----> 1\u001b[0;31m \u001b[0mframes\u001b[0m \u001b[1;33m=\u001b[0m \u001b[1;33m[\u001b[0m\u001b[0mnBsub\u001b[0m \u001b[1;33m,\u001b[0m\u001b[0mdf_test_decided_1\u001b[0m\u001b[1;33m[\u001b[0m\u001b[1;33m[\u001b[0m\u001b[1;34m'project_id'\u001b[0m\u001b[1;33m,\u001b[0m\u001b[1;34m'final_status'\u001b[0m\u001b[1;33m]\u001b[0m\u001b[1;33m]\u001b[0m\u001b[1;33m,\u001b[0m\u001b[0mdf_test_decided_2\u001b[0m\u001b[1;33m[\u001b[0m\u001b[1;33m[\u001b[0m\u001b[1;34m'project_id'\u001b[0m\u001b[1;33m,\u001b[0m\u001b[1;34m'final_status'\u001b[0m\u001b[1;33m]\u001b[0m\u001b[1;33m]\u001b[0m\u001b[1;33m,\u001b[0m\u001b[0mdf_test_decided_3\u001b[0m\u001b[1;33m[\u001b[0m\u001b[1;33m[\u001b[0m\u001b[1;34m'project_id'\u001b[0m\u001b[1;33m,\u001b[0m\u001b[1;34m'final_status'\u001b[0m\u001b[1;33m]\u001b[0m\u001b[1;33m]\u001b[0m\u001b[1;33m]\u001b[0m\u001b[1;33m\u001b[0m\u001b[0m\n\u001b[0m",
      "\u001b[0;31mNameError\u001b[0m: name 'nBsub' is not defined"
     ]
    }
   ],
   "source": [
    "frames = [nBsub ,df_test_decided_1[['project_id','final_status']],df_test_decided_2[['project_id','final_status']],df_test_decided_3[['project_id','final_status']]]"
   ]
  },
  {
   "cell_type": "code",
   "execution_count": 218,
   "metadata": {
    "collapsed": true
   },
   "outputs": [],
   "source": [
    "nBsub = pd.concat(frames)"
   ]
  },
  {
   "cell_type": "code",
   "execution_count": 219,
   "metadata": {
    "collapsed": true
   },
   "outputs": [],
   "source": [
    "nBsub.to_csv(\"nBstarter.csv\",index = False) #0.6526"
   ]
  },
  {
   "cell_type": "code",
   "execution_count": 91,
   "metadata": {
    "collapsed": true
   },
   "outputs": [],
   "source": [
    "\n",
    "\n",
    "\n",
    "\n",
    "\n",
    "\n",
    "\n",
    "from sklearn.model_selection import KFold\n",
    "kf = KFold(n_splits=5)\n",
    "for train_index, test_index in kf.split(X):\n",
    "   X_train, X_test = X[train_index], X[test_index]\n",
    "   y_train, y_test = y[train_index], y[test_index]"
   ]
  },
  {
   "cell_type": "code",
   "execution_count": 93,
   "metadata": {},
   "outputs": [
    {
     "data": {
      "text/plain": [
       "<generator object split at 0x000000002315FB40>"
      ]
     },
     "execution_count": 93,
     "metadata": {},
     "output_type": "execute_result"
    }
   ],
   "source": []
  },
  {
   "cell_type": "code",
   "execution_count": null,
   "metadata": {
    "collapsed": true
   },
   "outputs": [],
   "source": []
  },
  {
   "cell_type": "code",
   "execution_count": null,
   "metadata": {
    "collapsed": true
   },
   "outputs": [],
   "source": []
  },
  {
   "cell_type": "code",
   "execution_count": null,
   "metadata": {
    "collapsed": true
   },
   "outputs": [],
   "source": []
  },
  {
   "cell_type": "code",
   "execution_count": null,
   "metadata": {
    "collapsed": true
   },
   "outputs": [],
   "source": []
  },
  {
   "cell_type": "code",
   "execution_count": 183,
   "metadata": {
    "collapsed": true
   },
   "outputs": [],
   "source": []
  },
  {
   "cell_type": "code",
   "execution_count": 185,
   "metadata": {
    "collapsed": true
   },
   "outputs": [],
   "source": [
    "\n",
    "cols_to_use = ['name_len'\n",
    "                 ,'desc_len'\n",
    "                 ,'keys_len'\n",
    "                 ,'name_count'\n",
    "                 ,'desc_count'\n",
    "                 ,'keys_no']\n",
    "\n",
    "target = train['final_status']\n",
    "\n",
    "# data for modeling\n",
    "k_train = train[cols_to_use]\n",
    "k_test = test[cols_to_use]\n",
    "\n",
    "\n",
    "split = int(0.75*(len(k_train)))\n",
    "X_train = k_train[:split]\n",
    "X_valid = k_train[split:]\n",
    "Y_train =  target[:split]\n",
    "Y_test =  target[split:]"
   ]
  },
  {
   "cell_type": "code",
   "execution_count": 186,
   "metadata": {
    "collapsed": true
   },
   "outputs": [],
   "source": [
    "from sklearn.naive_bayes import GaussianNB\n",
    "\n",
    "gnb = GaussianNB()\n",
    "nvb_pred = gnb.fit(X_train, Y_train).predict(X_valid)"
   ]
  },
  {
   "cell_type": "code",
   "execution_count": 189,
   "metadata": {},
   "outputs": [
    {
     "data": {
      "text/plain": [
       "0.0078656784147632733"
      ]
     },
     "execution_count": 189,
     "metadata": {},
     "output_type": "execute_result"
    }
   ],
   "source": [
    "from sklearn.metrics import confusion_matrix\n",
    "confusion_matrix(nvb_pred, Y_test)\n",
    "f1_score(nvb_pred, Y_test)"
   ]
  },
  {
   "cell_type": "code",
   "execution_count": 188,
   "metadata": {},
   "outputs": [
    {
     "data": {
      "text/plain": [
       "Counter({0: 18915, 1: 6557})"
      ]
     },
     "execution_count": 188,
     "metadata": {},
     "output_type": "execute_result"
    }
   ],
   "source": [
    "Counter(Y_test)"
   ]
  },
  {
   "cell_type": "code",
   "execution_count": 57,
   "metadata": {
    "collapsed": true
   },
   "outputs": [],
   "source": [
    "nBsub = pd.DataFrame({'project_id':test['project_id'],'final_status':nvb_pred})\n",
    "nBsub = nBsub[['project_id','final_status']]"
   ]
  },
  {
   "cell_type": "code",
   "execution_count": null,
   "metadata": {
    "collapsed": true
   },
   "outputs": [],
   "source": []
  },
  {
   "cell_type": "code",
   "execution_count": null,
   "metadata": {
    "collapsed": true
   },
   "outputs": [],
   "source": []
  },
  {
   "cell_type": "code",
   "execution_count": 19,
   "metadata": {},
   "outputs": [
    {
     "data": {
      "text/plain": [
       "['project_id',\n",
       " 'goal',\n",
       " 'country',\n",
       " 'currency',\n",
       " 'deadline-state_changed_at',\n",
       " 'launched_at-created_at',\n",
       " 'deadline-launched_at',\n",
       " 'deadline-created_at',\n",
       " 'keys_no',\n",
       " 'keys_len',\n",
       " 'name_len',\n",
       " 'name_count',\n",
       " 'desc_len',\n",
       " 'desc_count',\n",
       " '0',\n",
       " '1',\n",
       " '2',\n",
       " '3',\n",
       " '4',\n",
       " '5',\n",
       " '6',\n",
       " '7',\n",
       " '8',\n",
       " '9',\n",
       " '10',\n",
       " '11',\n",
       " '12',\n",
       " '13',\n",
       " '14',\n",
       " '15',\n",
       " '16',\n",
       " '17',\n",
       " '18',\n",
       " '19',\n",
       " '20',\n",
       " '21',\n",
       " '22',\n",
       " '23',\n",
       " '24',\n",
       " '25',\n",
       " '26',\n",
       " '27',\n",
       " '28',\n",
       " '29',\n",
       " '30',\n",
       " '31',\n",
       " '32',\n",
       " '33',\n",
       " '34',\n",
       " '35',\n",
       " '36',\n",
       " '37',\n",
       " '38',\n",
       " '39',\n",
       " '40',\n",
       " '41',\n",
       " '42',\n",
       " '43',\n",
       " '44',\n",
       " '45',\n",
       " '46',\n",
       " '47',\n",
       " '48',\n",
       " '49']"
      ]
     },
     "execution_count": 19,
     "metadata": {},
     "output_type": "execute_result"
    }
   ],
   "source": [
    "cols"
   ]
  },
  {
   "cell_type": "code",
   "execution_count": 13,
   "metadata": {
    "collapsed": true
   },
   "outputs": [],
   "source": [
    "import pandas as pd\n",
    "nBsub_US = pd.read_csv('C:\\Users\\c5067944\\Desktop\\COMPS\\mlc2\\MyData_US.csv')\n",
    "nBsub_NUS = pd.read_csv('C:\\Users\\c5067944\\Desktop\\COMPS\\mlc2\\MyData_US.csv')\n",
    "\n",
    "nBsub_US = nBsub_US[['project_id','final_status']]\n",
    "nBsub_NUS = nBsub_NUS[['project_id','final_status']]\n",
    "\n",
    "frames = [nBsub_US,nBsub_NUS ,df_test_decided_1[['project_id','final_status']],df_test_decided_2[['project_id','final_status']],df_test_decided_3[['project_id','final_status']]]\n",
    "nBsub = pd.concat(frames)\n",
    "nBsub.to_csv(\"nBstarter.csv\",index = False) #0.6526"
   ]
  },
  {
   "cell_type": "code",
   "execution_count": 14,
   "metadata": {
    "collapsed": true
   },
   "outputs": [],
   "source": []
  },
  {
   "cell_type": "code",
   "execution_count": 15,
   "metadata": {
    "collapsed": true
   },
   "outputs": [],
   "source": []
  },
  {
   "cell_type": "code",
   "execution_count": 16,
   "metadata": {
    "collapsed": true
   },
   "outputs": [],
   "source": []
  },
  {
   "cell_type": "code",
   "execution_count": 17,
   "metadata": {
    "collapsed": true
   },
   "outputs": [],
   "source": []
  },
  {
   "cell_type": "code",
   "execution_count": 33,
   "metadata": {},
   "outputs": [
    {
     "data": {
      "text/plain": [
       "31733"
      ]
     },
     "execution_count": 33,
     "metadata": {},
     "output_type": "execute_result"
    }
   ],
   "source": [
    "len(nBsub_NUS)"
   ]
  },
  {
   "cell_type": "code",
   "execution_count": 32,
   "metadata": {},
   "outputs": [
    {
     "data": {
      "text/plain": [
       "31733"
      ]
     },
     "execution_count": 32,
     "metadata": {},
     "output_type": "execute_result"
    }
   ],
   "source": [
    "len(df_test_3_US)"
   ]
  },
  {
   "cell_type": "code",
   "execution_count": null,
   "metadata": {
    "collapsed": true
   },
   "outputs": [],
   "source": []
  },
  {
   "cell_type": "code",
   "execution_count": null,
   "metadata": {
    "collapsed": true
   },
   "outputs": [],
   "source": []
  },
  {
   "cell_type": "code",
   "execution_count": null,
   "metadata": {
    "collapsed": true
   },
   "outputs": [],
   "source": []
  },
  {
   "cell_type": "code",
   "execution_count": 298,
   "metadata": {},
   "outputs": [
    {
     "name": "stdout",
     "output_type": "stream",
     "text": [
      "AUD 1661 343 0.206502107164\n",
      "CAD 3349 837 0.249925350851\n",
      "DKK 167 44 0.263473053892\n",
      "EUR 715 111 0.155244755245\n",
      "GBP 8113 2508 0.309133489461\n",
      "NOK 91 18 0.197802197802\n",
      "NZD 319 80 0.25078369906\n",
      "SEK 207 45 0.217391304348\n",
      "USD 87201 30550 0.350340019036\n"
     ]
    }
   ],
   "source": [
    "from collections import Counter\n",
    "C = Counter(df_train_3['currency'].values)\n",
    "for i in np.unique(df_train_3['currency'].values):\n",
    "    print i, C[i], sum(df_train_3[df_train_3.currency == i]['final_status'].values), sum(df_train_3[df_train_3.currency == i]['final_status'].values)/float(C[i])\n",
    "    "
   ]
  },
  {
   "cell_type": "code",
   "execution_count": 185,
   "metadata": {
    "scrolled": false
   },
   "outputs": [
    {
     "name": "stdout",
     "output_type": "stream",
     "text": [
      "AU 1834 343 0.187022900763\n",
      "CA 3685 837 0.227137042062\n",
      "DE 1 0 0.0\n",
      "DK 183 44 0.24043715847\n",
      "GB 8693 2508 0.288507994938\n",
      "IE 106 23 0.216981132075\n",
      "NL 691 88 0.127351664255\n",
      "NO 99 18 0.181818181818\n",
      "NZ 352 80 0.227272727273\n",
      "SE 224 45 0.200892857143\n",
      "US 91432 30550 0.334128095196\n"
     ]
    }
   ],
   "source": [
    "from collections import Counter\n",
    "C = Counter(df_train_2['country'].values)\n",
    "for i in np.unique(df_train_2['country'].values):\n",
    "    print i, C[i], sum(df_train_2[df_train_2.country == i]['final_status'].values), sum(df_train_2[df_train_2.country == i]['final_status'].values)/float(C[i])"
   ]
  },
  {
   "cell_type": "code",
   "execution_count": null,
   "metadata": {
    "collapsed": true
   },
   "outputs": [],
   "source": []
  },
  {
   "cell_type": "code",
   "execution_count": null,
   "metadata": {
    "collapsed": true
   },
   "outputs": [],
   "source": []
  },
  {
   "cell_type": "code",
   "execution_count": 16,
   "metadata": {
    "collapsed": true
   },
   "outputs": [],
   "source": [
    "import warnings # current version of seaborn generates a bunch of warnings that we'll ignore\n",
    "warnings.filterwarnings(\"ignore\")\n",
    "import seaborn as sns\n",
    "import matplotlib.pyplot as plt\n",
    "sns.set(style=\"white\", color_codes=True)"
   ]
  },
  {
   "cell_type": "code",
   "execution_count": null,
   "metadata": {
    "collapsed": true
   },
   "outputs": [],
   "source": []
  },
  {
   "cell_type": "code",
   "execution_count": 18,
   "metadata": {},
   "outputs": [
    {
     "data": {
      "image/png": "[encoded data removed]",
      "text/plain": [
       "<matplotlib.figure.Figure at 0x23fffd68>"
      ]
     },
     "metadata": {},
     "output_type": "display_data"
    }
   ],
   "source": [
    "\n",
    "df = df_train_3\n",
    "ax = sns.boxplot(x=\"final_status\", y=\"desc_len\", data=df)\n",
    "ax = sns.stripplot(x=\"final_status\", y=\"desc_len\", data=df, jitter=True, edgecolor=\"gray\")\n",
    "plt.show()"
   ]
  },
  {
   "cell_type": "code",
   "execution_count": 286,
   "metadata": {},
   "outputs": [
    {
     "data": {
      "text/plain": [
       "45757"
      ]
     },
     "execution_count": 286,
     "metadata": {},
     "output_type": "execute_result"
    }
   ],
   "source": [
    "len(df_train_2[df_train_2['deadline-state_changed_at'].values ==0])"
   ]
  },
  {
   "cell_type": "code",
   "execution_count": 289,
   "metadata": {},
   "outputs": [
    {
     "data": {
      "text/plain": [
       "14979"
      ]
     },
     "execution_count": 289,
     "metadata": {},
     "output_type": "execute_result"
    }
   ],
   "source": [
    "sum(df_train_2[df_train_2['deadline-state_changed_at'].values ==0].final_status)"
   ]
  },
  {
   "cell_type": "code",
   "execution_count": 282,
   "metadata": {},
   "outputs": [
    {
     "data": {
      "text/plain": [
       "16892"
      ]
     },
     "execution_count": 282,
     "metadata": {},
     "output_type": "execute_result"
    }
   ],
   "source": [
    "len(df_test_2[df_test_2['deadline-state_changed_at'].values <0])"
   ]
  },
  {
   "cell_type": "code",
   "execution_count": 1,
   "metadata": {},
   "outputs": [
    {
     "name": "stdout",
     "output_type": "stream",
     "text": [
      "Done. 400000  words loaded!\n"
     ]
    }
   ],
   "source": [
    "import pandas as pd\n",
    "import numpy as np\n",
    "import time\n",
    "\n",
    "model = {}\n",
    "f = open('glove.txt','r')\n",
    "for line in f:\n",
    "    splitLine = line.split()\n",
    "    word = splitLine[0]\n",
    "    embedding = [float(val) for val in splitLine[1:]]\n",
    "    model[word] = embedding\n",
    "print \"Done.\",len(model),\" words loaded!\"\n",
    "\n",
    "\n",
    "\n",
    "\n",
    "df_train = pd.read_csv(\"train.csv\")\n",
    "df_test = pd.read_csv(\"test.csv\")\n",
    "\n",
    "\n",
    "\n",
    "\n",
    "\n",
    "for df in [df_train,df_test]: \n",
    "    unix_cols = ['deadline','state_changed_at','launched_at','created_at']\n",
    "    for x in unix_cols:\n",
    "        col = []\n",
    "        for i in df[x].values:\n",
    "            unix_timestamp  = int(i)\n",
    "            utc_time = time.gmtime(unix_timestamp)\n",
    "            local_time = time.localtime(unix_timestamp)\n",
    "            col.append(time.strftime(\"%Y-%m-%d %H:%M:%S\", local_time))\n",
    "        df[x] = col\n",
    "    \n",
    "    disable_communication = []    \n",
    "    for i in df['disable_communication'].values:\n",
    "        if str(i) == 'False':\n",
    "            disable_communication.append(0)\n",
    "        else:\n",
    "            disable_communication.append(1)\n",
    "    df['disable_communication'] = disable_communication\n",
    "    \n",
    "    col = []\n",
    "    import datetime\n",
    "    for i in range(len(df)):\n",
    "        x = datetime.datetime.strptime(df['state_changed_at'].values[i],\"%Y-%m-%d %H:%M:%S\")- datetime.datetime.strptime(df['deadline'].values[i],\"%Y-%m-%d %H:%M:%S\")\n",
    "        col.append(x.total_seconds())\n",
    "    df['deadline-state_changed_at'] = col ############################\n",
    "    \n",
    "    col = []\n",
    "    import datetime\n",
    "    for i in range(len(df)):\n",
    "        x = datetime.datetime.strptime(df['launched_at'].values[i],\"%Y-%m-%d %H:%M:%S\")- datetime.datetime.strptime(df['created_at'].values[i],\"%Y-%m-%d %H:%M:%S\")\n",
    "        col.append(x.total_seconds())\n",
    "    df['launched_at-created_at'] = col\n",
    "    \n",
    "    col = []\n",
    "    import datetime\n",
    "    for i in range(len(df)):\n",
    "        x = datetime.datetime.strptime(df['deadline'].values[i],\"%Y-%m-%d %H:%M:%S\")- datetime.datetime.strptime(df['launched_at'].values[i],\"%Y-%m-%d %H:%M:%S\")\n",
    "        col.append(x.total_seconds()/86400)\n",
    "    df['deadline-launched_at'] = col\n",
    "    \n",
    "    \n",
    "    col = []\n",
    "    import datetime\n",
    "    for i in range(len(df)):\n",
    "        x = datetime.datetime.strptime(df['deadline'].values[i],\"%Y-%m-%d %H:%M:%S\")- datetime.datetime.strptime(df['created_at'].values[i],\"%Y-%m-%d %H:%M:%S\")\n",
    "        col.append(x.total_seconds()/86400)\n",
    "    df['deadline-created_at'] = col\n",
    "    \n",
    "    \n",
    "    col = [\n",
    "    import datetime\n",
    "    for i in range(len(df)):\n",
    "        x = datetime.datetime.strptime(df['state_changed_at'].values[i],\"%Y-%m-%d %H:%M:%S\")- datetime.datetime.strptime(df['launched_at'].values[i],\"%Y-%m-%d %H:%M:%S\")\n",
    "        col.append(x.total_seconds()/86400)\n",
    "    df['state_changed_at-launched_at'] = col\n",
    "    \n",
    "    \n",
    "    \n",
    "    \n",
    "for df in [df_train,df_test]:     \n",
    "    keys_no = []\n",
    "    keys_len = []\n",
    "    keys = []\n",
    "    for i in df['keywords'].values:\n",
    "        k = i.split('-')\n",
    "        keys.append(k)\n",
    "        keys_len.append(len(k))\n",
    "        keys_no.append(len(k))\n",
    "    df['keys_no']  = keys_no\n",
    "    df['keys']  = keys\n",
    "    df['keys_len']  = keys_len\n",
    "\n",
    "    words = []\n",
    "    for i in range(len(df)):\n",
    "        for j in df['keys'].values[i]:\n",
    "                words.append(j)\n",
    "    l = set(words) - set(model.keys())\n",
    "    GLOVE = []\n",
    "    #df_train_3['GLOVE'] = 0\n",
    "    for i in range(len(df)):\n",
    "        glocevecs = np.zeros(50)\n",
    "        for j in df['keys'].values[i]:\n",
    "            if j not in l:\n",
    "                glocevecs = glocevecs+np.array(model[j])\n",
    "        GLOVE.append(glocevecs)\n",
    "    df['GLOVE'] = GLOVE\n",
    "\n",
    "    for j in range(50):\n",
    "        one = []\n",
    "        for i in  df['GLOVE'].values:\n",
    "            one.append(i[j])\n",
    "        df[str(j)] = one   \n",
    "        \n",
    "        \n",
    "        \n",
    "df_train.to_csv('train_G.csv')\n",
    "df_test.to_csv('test_G.csv')"
   ]
  },
  {
   "cell_type": "code",
   "execution_count": 1,
   "metadata": {},
   "outputs": [
    {
     "name": "stdout",
     "output_type": "stream",
     "text": [
      "showing info https://raw.githubusercontent.com/nltk/nltk_data/gh-pages/index.xml\n"
     ]
    },
    {
     "data": {
      "text/plain": [
       "True"
      ]
     },
     "execution_count": 1,
     "metadata": {},
     "output_type": "execute_result"
    }
   ],
   "source": [
    "import nltk\n",
    "nltk.download()"
   ]
  },
  {
   "cell_type": "code",
   "execution_count": null,
   "metadata": {
    "collapsed": true
   },
   "outputs": [],
   "source": []
  }
 ],
 "metadata": {
  "kernelspec": {
   "display_name": "Python 2",
   "language": "python",
   "name": "python2"
  },
  "language_info": {
   "codemirror_mode": {
    "name": "ipython",
    "version": 2
   },
   "file_extension": ".py",
   "mimetype": "text/x-python",
   "name": "python",
   "nbconvert_exporter": "python",
   "pygments_lexer": "ipython2",
   "version": "2.7.13"
  }
 },
 "nbformat": 4,
 "nbformat_minor": 2
}
